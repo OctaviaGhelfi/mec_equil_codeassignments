{
 "cells": [
  {
   "cell_type": "markdown",
   "metadata": {},
   "source": [
    "# Code Assignment 3"
   ]
  },
  {
   "cell_type": "markdown",
   "metadata": {},
   "source": [
    "## Gurobi"
   ]
  },
  {
   "cell_type": "code",
   "execution_count": 1,
   "metadata": {},
   "outputs": [],
   "source": [
    "using CSV\n",
    "df = CSV.read(\"E:\\\\Documents\\\\GitHub\\\\mec_equil\\\\data\\\\NYC_subway\\\\arcs.csv\", delim = ',', \n",
    "    header = true, allowmissing = :auto, rows_for_type_detect = 150)\n",
    "\n",
    "nbNodes = maximum(df[2])\n",
    "nbArcs = length(df[2])\n",
    "A = spzeros(nbNodes, nbArcs)\n",
    "\n",
    "for i in 1:length(df[1])\n",
    "    A[df[1][i], i] = -1\n",
    "    A[df[2][i], i] = 1\n",
    "end\n",
    "\n",
    "d = spzeros(maximum(df[2]))\n",
    "d[471] = 1\n",
    "d[452] = -1\n",
    "\n",
    "c = df[3];"
   ]
  },
  {
   "cell_type": "code",
   "execution_count": 2,
   "metadata": {},
   "outputs": [
    {
     "name": "stdout",
     "output_type": "stream",
     "text": [
      "Academic license - for non-commercial use only\r\n",
      "Optimize a model with 501 rows, 1290 columns and 2580 nonzeros\r\n",
      "Variable types: 0 continuous, 1290 integer (0 binary)\r\n",
      "Coefficient statistics:\r\n",
      "  Matrix range     [1e+00, 1e+00]\r\n",
      "  Objective range  [1e-01, 3e+04]\r\n",
      "  Bounds range     [0e+00, 0e+00]\r\n",
      "  RHS range        [1e+00, 1e+00]\r\n",
      "Presolve removed 139 rows and 289 columns\r\n",
      "Presolve time: 0.00s\r\n",
      "Presolved: 362 rows, 1001 columns, 2002 nonzeros\r\n",
      "Variable types: 0 continuous, 1001 integer (0 binary)\r\n",
      "Found heuristic solution: objective 12150.936293\r\n",
      "\r\n",
      "Root relaxation: objective 1.213381e+04, 43 iterations, 0.00 seconds\r\n",
      "\r\n",
      "    Nodes    |    Current Node    |     Objective Bounds      |     Work\r\n",
      " Expl Unexpl |  Obj  Depth IntInf | Incumbent    BestBd   Gap | It/Node Time\r\n",
      "\r\n",
      "*    0     0               0    12133.809467 12133.8095  0.00%     -    0s\r\n",
      "\r\n",
      "Explored 0 nodes (43 simplex iterations) in 0.01 seconds\r\n",
      "Thread count was 4 (of 4 available processors)\r\n",
      "\r\n",
      "Solution count 2: 12133.8 12150.9 \r\n",
      "\r\n",
      "Optimal solution found (tolerance 1.00e-04)\r\n",
      "Best objective 1.213380946700e+04, best bound 1.213380946700e+04, gap 0.0000%\r\n"
     ]
    },
    {
     "data": {
      "text/plain": [
       ":Optimal"
      ]
     },
     "execution_count": 2,
     "metadata": {},
     "output_type": "execute_result"
    }
   ],
   "source": [
    "using Gurobi, JuMP\n",
    "m = Model(solver=GurobiSolver())\n",
    "\n",
    "@variable(m, π[1:nbArcs] >= 0, Int)\n",
    "@constraint(m, A * π .== d)\n",
    "@objective(m, Min, c'*π)\n",
    "\n",
    "solve(m)"
   ]
  },
  {
   "cell_type": "code",
   "execution_count": 3,
   "metadata": {},
   "outputs": [
    {
     "data": {
      "text/plain": [
       "5-element Array{Int64,1}:\n",
       " 452\n",
       " 433\n",
       " 463\n",
       " 468\n",
       " 471"
      ]
     },
     "execution_count": 3,
     "metadata": {},
     "output_type": "execute_result"
    }
   ],
   "source": [
    "sources = df[1][getvalue(π) .!= 0]\n",
    "dests = df[2][getvalue(π) .!= 0]\n",
    "union(sources, dests)"
   ]
  },
  {
   "cell_type": "markdown",
   "metadata": {},
   "source": [
    "## Bellman-Ford"
   ]
  },
  {
   "cell_type": "code",
   "execution_count": 28,
   "metadata": {},
   "outputs": [
    {
     "data": {
      "text/plain": [
       "bellman_ford (generic function with 1 method)"
      ]
     },
     "execution_count": 28,
     "metadata": {},
     "output_type": "execute_result"
    }
   ],
   "source": [
    "function bellman_ford(df, c, ;max_iter = 50)\n",
    "    p_new = Inf * ones(nbNodes)\n",
    "    p_new[452] = 0\n",
    "    p_old = zeros(nbNodes)\n",
    "    iteration = 0\n",
    "\n",
    "    while any(p_new .!= p_old)\n",
    "        iteration += 1\n",
    "        p_old .= p_new\n",
    "\n",
    "        for y in 1:nbNodes\n",
    "            p_new[y] = min(p_old[y], minimum(vcat(Inf, c[df[1] .== y] .+ p_old[df[df[1] .== y, 2]])))\n",
    "        end\n",
    "    end\n",
    "\n",
    "    return (p_new, iteration)\n",
    "end"
   ]
  },
  {
   "cell_type": "code",
   "execution_count": 30,
   "metadata": {},
   "outputs": [
    {
     "data": {
      "text/plain": [
       "([34050.7, 33505.6, 32777.8, 32141.0, 31409.7, 30795.5, 30069.7, 29394.9, 28667.2, 27529.0  …  Inf, Inf, Inf, Inf, Inf, Inf, Inf, Inf, Inf, Inf], 24)"
      ]
     },
     "execution_count": 30,
     "metadata": {},
     "output_type": "execute_result"
    }
   ],
   "source": [
    "(p, iteration) = bellman_ford(df, c;max_iter = 50)"
   ]
  },
  {
   "cell_type": "markdown",
   "metadata": {},
   "source": [
    "The shortest path has the same distance as the solution from Gurobi:"
   ]
  },
  {
   "cell_type": "code",
   "execution_count": 32,
   "metadata": {},
   "outputs": [
    {
     "data": {
      "text/plain": [
       "12133.809467"
      ]
     },
     "execution_count": 32,
     "metadata": {},
     "output_type": "execute_result"
    }
   ],
   "source": [
    "p[471]"
   ]
  },
  {
   "cell_type": "markdown",
   "metadata": {},
   "source": [
    "## Regularized Problem"
   ]
  },
  {
   "cell_type": "code",
   "execution_count": 112,
   "metadata": {},
   "outputs": [
    {
     "data": {
      "text/plain": [
       "dual_wrapper (generic function with 1 method)"
      ]
     },
     "execution_count": 112,
     "metadata": {},
     "output_type": "execute_result"
    }
   ],
   "source": [
    "function dual_wrapper(d, A, c, T)\n",
    "    return p -> d' * p - T * sum(exp.((A' * p .- c) / T))\n",
    "end"
   ]
  },
  {
   "cell_type": "code",
   "execution_count": 113,
   "metadata": {
    "code_folding": []
   },
   "outputs": [
    {
     "data": {
      "text/plain": [
       "gradient_decent (generic function with 2 methods)"
      ]
     },
     "execution_count": 113,
     "metadata": {},
     "output_type": "execute_result"
    }
   ],
   "source": [
    "# define gradient_decent()\n",
    "using ForwardDiff\n",
    "function gradient_decent(f, p_init; stepsize = 0.2, tol = 1e-5, max_iter = 5000)\n",
    "    tic()\n",
    "    iteration = 0\n",
    "    residual = 1.\n",
    "    p_old = p_init\n",
    "    p_new = zeros(p_init)\n",
    "    \n",
    "    while (residual > tol) && (iteration <= max_iter)\n",
    "        iteration += 1\n",
    "        \n",
    "        p_new .= p_old .- stepsize .* ForwardDiff.gradient(f, p_old)\n",
    "\n",
    "        residual = maximum(abs.(p_new .- p_old))\n",
    "        p_old .= p_new\n",
    "    end\n",
    "    \n",
    "    return (residual, iteration, toq(), p_new)\n",
    "end"
   ]
  },
  {
   "cell_type": "code",
   "execution_count": 114,
   "metadata": {},
   "outputs": [
    {
     "data": {
      "text/plain": [
       "(0.08244586096657569, 51, 0.646645119, [1.0, 1.0, 1.0, 1.0, 1.0, 1.0, 1.0, 1.0, 1.0, 1.0  …  1.0, 1.0, 1.0, 1.0, 1.0, 1.0, 1.0, 1.0, 1.0, 1.0])"
      ]
     },
     "execution_count": 114,
     "metadata": {},
     "output_type": "execute_result"
    }
   ],
   "source": [
    "gradient_decent(dual_wrapper(d, A, c, 1.), ones(nbNodes), \n",
    "    stepsize = 0.01, max_iter = 50)"
   ]
  },
  {
   "cell_type": "code",
   "execution_count": null,
   "metadata": {},
   "outputs": [],
   "source": []
  }
 ],
 "metadata": {
  "kernelspec": {
   "display_name": "Julia 0.6.2",
   "language": "julia",
   "name": "julia-0.6"
  },
  "language_info": {
   "file_extension": ".jl",
   "mimetype": "application/julia",
   "name": "julia",
   "version": "0.6.2"
  }
 },
 "nbformat": 4,
 "nbformat_minor": 2
}
